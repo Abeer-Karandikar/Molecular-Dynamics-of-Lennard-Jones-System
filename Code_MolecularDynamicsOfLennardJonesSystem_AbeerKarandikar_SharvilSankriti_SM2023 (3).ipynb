{
 "cells": [
  {
   "cell_type": "code",
   "execution_count": 1,
   "id": "0a416ddc",
   "metadata": {},
   "outputs": [],
   "source": [
    "import numpy as np\n",
    "import matplotlib.pyplot as plt\n",
    "plt.rcParams['figure.dpi'] = 100\n",
    "\n",
    "from matplotlib.animation import FuncAnimation\n",
    "\n",
    "from numba import njit\n",
    "from tqdm import tqdm"
   ]
  },
  {
   "cell_type": "code",
   "execution_count": 2,
   "id": "2aeb5762",
   "metadata": {},
   "outputs": [],
   "source": [
    "@njit\n",
    "def lj_acc(rij):\n",
    "    a=0                                # Computing the acceleration for each _pair_ of particles  \n",
    "    rij = pbc_distance(rij)            #Using the Lenard-Jones potential to write formula for acceleration\n",
    "    d = 1/np.sqrt(sum(rij**2))\n",
    "    return 48*(d**14 - 0.5*d**8)*rij\n",
    "    # <===== Q 3(b) Fill this in\n",
    "\n",
    "@njit\n",
    "def lj_acc1(rij, r_c):\n",
    "    a=0                                # Computing the acceleration for each pair of particles\n",
    "    rij = pbc_distance(rij)            #Using the modifed Lenard-Jones potential to write formula for acceleration\n",
    "    d = 1/np.sqrt(sum(rij**2))         #in order to take care of the discontinuity \n",
    "    d_cutoff = 1/r_c\n",
    "    return 48*(d**14 - 0.5*d**8)*rij - 48*(d_cutoff**14 - 0.5*d_cutoff**8)*r_c\n",
    "    # <===== Q 3(b) Fill this in\n",
    "\n",
    "\n",
    "@njit\n",
    "def get_pe(step_pos,r_c,L):# Calculating the potential energy using the modified Lennard-Jones potential\n",
    "    \n",
    "    potential = 0\n",
    "     \n",
    "    for p in range(N-1):                                               \n",
    "            for q in range(p+1,N):\n",
    "                rpq = step_pos[p] - step_pos[q]                #Using the Lenard-Jones Potential \n",
    "                rij = pbc_distance(rpq)\n",
    "                dist = 1/np.sqrt(sum(rij**2))\n",
    "                d_cutoff = 1/np.sqrt(r_c**2)\n",
    "                potential = potential + 4*((dist)**12 - (dist)**6) - 4*((d_cutoff)**12 - (d_cutoff)**6) -  48*(d_cutoff**14 - 0.5*d_cutoff**8)*r_c*(np.sqrt(sum(rij**2))-r_c) \n",
    "    # Addig the extra correction terms to care of the discontinuity introduced due to the cutoff radius\n",
    "    return potential\n",
    "\n",
    "@njit\n",
    "def get_ke(step_vel):#Calculating kinetik energy               \n",
    "    kinetic = 0\n",
    "    for m in range(N):                                 \n",
    "        vel = step_vel[m]\n",
    "        velocity = np.sqrt(sum(vel**2))\n",
    "        kinetic = kinetic + 0.5*velocity**2\n",
    "    return kinetic \n",
    "\n",
    "\n",
    "@njit\n",
    "def pbc_distance(rij): #The corrected distance betwwen particles after implementing periodic boudary conditions \n",
    "    if np.abs(rij[0]) > 0.5*L:\n",
    "            rij[0] = rij[0] - L*(rij[0]/ np.abs(rij[0]))   #Due to PBCs there are two possible values of distace, \n",
    "    if np.abs(rij[1]) > 0.5*L:                             #taking the smaller one out of those  \n",
    "            rij[1] = rij[1] - L*(rij[1]/ np.abs(rij[1]))    \n",
    "    return rij\n",
    "\n",
    "@njit\n",
    "def computeNeighbourList(r_cutoff, pos):#Keeping track of the neighbours at a timestep\n",
    "    cumulativeNeighbours = np.zeros((N, N))#Cumulative list of the neighbour list of all particles \n",
    "    #r=np.array([0.])\n",
    "    for i in range(N):\n",
    "        numberInList = np.zeros(N) #starting with zeros\n",
    "        for j in range(N):\n",
    "            rn=pbc_distance(pos[j]-pos[i])\n",
    "            r1=np.sqrt(rn[0]**2+rn[1]**2)\n",
    "            #r=np.append(r,r1)\n",
    "            if r1 < r_cutoff:\n",
    "                if j == i:\n",
    "                    numberInList[j] = 0 #the element for the particle ittself is always zero\n",
    "                else:\n",
    "                    numberInList[j] =+ 1 #If the particle is within the cutoff, making the corresponding element 1\n",
    "        cumulativeNeighbours[i] = numberInList #list of all lists\n",
    "    return cumulativeNeighbours\n",
    "\n",
    "\n",
    "@njit\n",
    "def maxwell(v,T):\n",
    "    p = (1./T)*v*np.exp(-0.5*v*v/T)\n",
    "    return p"
   ]
  },
  {
   "cell_type": "code",
   "execution_count": 3,
   "id": "f9a120ce",
   "metadata": {},
   "outputs": [],
   "source": [
    "def init_pos(Lx, Ly, Nx, Ny):\n",
    "\n",
    "    N = Nx*Ny                                       # Total number of particles in the lattice\n",
    "    \n",
    "    dx = Lx/Nx                                      # Spacing between particles along the  \n",
    "    dy = Ly/Ny                                      # x and y axes\n",
    "    \n",
    "    ipos = np.zeros((N,2))                          # Empty array to store positions\n",
    "\n",
    "    n=0                                             # Counter to count the number of particles\n",
    "    \n",
    "    for x in range(Nx):                             # Loop over all particles\n",
    "        for y in range(Ny):\n",
    "            ipos[n] = [dx/2 + dx*x, dy/2 + dy*y]    # Assign positions to each particle\n",
    "            n+=1                                    # Increment counter\n",
    "    \n",
    "    return ipos\n",
    "\n",
    "\n",
    "def init_vel(N):\n",
    "    ivel = np.zeros((N,2), dtype=np.float32)         # Initialise the empty array for velocities \n",
    "\n",
    "    T = 2.5                                         # Initial \"temperature\" of the system\n",
    "    T0 = 1                                           # Temperature scale of the problem\n",
    "\n",
    "    v0 = np.sqrt(2*T/T0)                             # Initial speed of each particle\n",
    "\n",
    "    for i in range(N):                               # Loop over each particle and \n",
    "        r = 2*np.pi*np.random.random()               # assign it a random direction\n",
    "        ivel[i][0] = v0 * np.cos(r)                  # Set the x and y components of the velocity\n",
    "        ivel[i][1] = v0 * np.sin(r)                  # while keeping the magnitude constant\n",
    "\n",
    "    vcm = np.sum(ivel,axis=0)/N                      # Compute the centre of mass velocity\n",
    "    ivel = ivel-vcm                                  # Subtract the COM velocity so the COM is stationary\n",
    "\n",
    "    return ivel\n"
   ]
  },
  {
   "cell_type": "code",
   "execution_count": 8,
   "id": "8c70ae85",
   "metadata": {},
   "outputs": [],
   "source": [
    "@njit\n",
    "def simulate(ipos, ivel, nu, T, r_c,tf=100, dt=0.01):\n",
    "    \n",
    "    n_steps = int(tf/dt)                                     # Number of simulation steps\n",
    "\n",
    "    pos = np.zeros(shape=(n_steps,N,2), dtype=np.float32)    # Arrays to store the history of the particles'\n",
    "    vel = np.zeros(shape=(n_steps,N,2), dtype=np.float32)    # positions and velocities\n",
    "\n",
    "    KE = np.zeros(n_steps)                                   # Arrays to store the history of the particles'\n",
    "    PE = np.zeros(n_steps)                                   # kinetic and potential energies\n",
    "    #P = np.zeros((n_steps,N-1))  \n",
    "    pos[0] = ipos                                            # Setting initial positions to `ipos`\n",
    "    vel[0] = ivel                                            # Setting initial velocities to `ivel`\n",
    "\n",
    "    KE[0] = get_ke(vel[0])                                   # Computing initial kinetic and potential\n",
    "    PE[0] = get_pe(pos[0],2.3,L=L)                              # energies\n",
    "    \n",
    "\n",
    "    for s in range(1,n_steps-1):\n",
    "        pos[s] = pos[s - 1] + dt/2 * vel[s - 1] # Velrelt half-step\n",
    "        \n",
    "        for m in range(N): #Imposing periodic boundary conditions. \n",
    "            if pos[s][m][0] >= L:\n",
    "                pos[s][m][0] = pos[s][m][0] - L\n",
    "            if pos[s][m][0] <= 0:\n",
    "                pos[s][m][0] = pos[s][m][0] + L\n",
    "            if pos[s][m][1] >= L:\n",
    "                pos[s][m][1] = pos[s][m][1] - L\n",
    "            if pos[s][m][1] <= 0:\n",
    "                pos[s][m][1] = pos[s][m][1] + L\n",
    "\n",
    "        net_a = np.zeros((N,2), dtype=np.float32)            # Empty array to store the net acceleration of each particle\n",
    "\n",
    "        for p in range(N-1): # Computing the acceleration for each pair of particles              \n",
    "            for q in range(p+1,N):\n",
    "                \n",
    "                acc = lj_acc(pos[s][p] - pos[s][q]) # acc = <==== Compute the acceleration between pairs of particles\n",
    "                #P[s][p] = pbc_distance(pos[s][p] - pos[s][q])[0]*acc[0] + pbc_distance(pos[s][p] - pos[s][q])[1]*acc[1]\n",
    "                    \n",
    "                net_a[p] += acc                              # Use the third-law to impart equal and opposite \n",
    "                net_a[q] -= acc                              # accelerations to each particle\n",
    "\n",
    "\n",
    "        vel[s] = vel[s - 1] + dt * net_a  #Verlet full step\n",
    "        pos[s] = pos[s] + dt/2 * vel[s]\n",
    "                \n",
    "    \n",
    "        for m in range(N): #Re-imposing periodic boundary conditions. \n",
    "            if pos[s][m][0] >= L:\n",
    "                pos[s][m][0] = pos[s][m][0] - L\n",
    "            if pos[s][m][0] <= 0:\n",
    "                pos[s][m][0] = pos[s][m][0] + L\n",
    "            if pos[s][m][1] >= L:\n",
    "                pos[s][m][1] = pos[s][m][1] - L\n",
    "            if pos[s][m][1] <= 0:\n",
    "                pos[s][m][1] = pos[s][m][1] + L\n",
    "                \n",
    "        #Andersen Thermostat         \n",
    "\n",
    "        for b in range(N):\n",
    "            r = np.random.uniform(0,1)\n",
    "            if r <= nu*dt: #picking a particle with the specified probability\n",
    "                r1 = np.random.uniform(0,1)\n",
    "                r2 = np.random.uniform(0,1)*2*np.pi\n",
    "                vel[s][b][0] = np.sqrt(-2*T*np.log(r1))*np.cos(r2) #Assigning velocitied drawn from the maxwell-Boltzmann\n",
    "                vel[s][b][1] = np.sqrt(-2*T*np.log(r1))*np.sin(r2) #Distribution                \n",
    "                \n",
    "        KE[s] = get_ke(vel[s])                               # Compute the kinetic and potential energies at \n",
    "        PE[s] = get_pe(pos[s],2.3,L=L)                       # the current step\n",
    "        \n",
    "    return pos, vel, KE, PE\n",
    "        "
   ]
  },
  {
   "cell_type": "code",
   "execution_count": 5,
   "id": "b4b1a807",
   "metadata": {},
   "outputs": [],
   "source": [
    "@njit\n",
    "def newsimulate(ipos, ivel, nu, T,r_c,r_n,tf=99, dt=0.01):\n",
    "    \n",
    "    n_steps = int(tf/dt)                                     # Number of simulation steps\n",
    "\n",
    "    pos = np.zeros(shape=(n_steps,N,2), dtype=np.float32)    # Arrays to store the history of the particles'\n",
    "    vel = np.zeros(shape=(n_steps,N,2), dtype=np.float32)    # positions and velocities\n",
    "\n",
    "    KE = np.zeros(n_steps)                                   # Arrays to store the history of the particles'\n",
    "    PE = np.zeros(n_steps)                                   # kinetic and potential energies\n",
    "    #P = np.zeros((n_steps,N-1))  \n",
    "    pos[0] = ipos                                            # Setting initial positions to `ipos`\n",
    "    vel[0] = ivel                                            # Setting initial velocities to `ivel`\n",
    "    \n",
    "    pnn=np.zeros(shape=(int(10000/15),N,N))                  #Array to keep track of all the neigbour lists calculated for\n",
    "                                                             #every 15th timestep.   \n",
    "\n",
    "    KE[0] = get_ke(vel[0])                                   # Computing initial kinetic and potential\n",
    "    PE[0] = get_pe(pos[0], 2.3,L=L)                              # energies\n",
    "    \n",
    "\n",
    "    for s in range(1,n_steps-1): \n",
    "    \n",
    "        pos[s] = pos[s - 1] + dt/2 * vel[s - 1]  # Velrelt half-step\n",
    "                \n",
    "        for m in range(N):  #Imposing periodic boundary conditions. \n",
    "            if pos[s][m][0] >= L:\n",
    "                pos[s][m][0] = pos[s][m][0] - L\n",
    "            if pos[s][m][0] <= 0:\n",
    "                pos[s][m][0] = pos[s][m][0] + L\n",
    "            if pos[s][m][1] >= L:\n",
    "                pos[s][m][1] = pos[s][m][1] - L\n",
    "            if pos[s][m][1] <= 0:\n",
    "                pos[s][m][1] = pos[s][m][1] + L\n",
    "\n",
    "        if s%15==0: #For every 15th timestep, updating the neighbou lists for all particles and storin them\n",
    "            pnn[int(s/15)]=computeNeighbourList(r_c,pos[s])\n",
    "\n",
    "        net_a = np.zeros((N,2), dtype=np.float32)            # Empty array to store the net acceleration of each particle\n",
    "\n",
    "        for p in range(N-1):                                           \n",
    "            for q in range(p+1,N):\n",
    "                if pnn[int(s/15)][p][q]==1: #Computing the acceleration between the particles only if they are in the \n",
    "                    acc = lj_acc1(pos[s][p] - pos[s][q], 2.3)#nighbour list of the paticle being looped over. \n",
    "                \n",
    "                   # P[s][p] = pbc_distance(pos[s][p] - pos[s][q])[0]*acc[0] + pbc_distance(pos[s][p] - pos[s][q])[1]*acc[1]\n",
    "                    \n",
    "                    net_a[p] += acc                              # Use the third-law to impart equal and opposite \n",
    "                    net_a[q] -= acc                              # accelerations to each particle\n",
    "\n",
    "\n",
    "        vel[s] = vel[s - 1] + dt * net_a  #Verlet full step\n",
    "        pos[s] = pos[s] + dt/2 * vel[s]\n",
    "                \n",
    "\n",
    "        for m in range(N): #Re-imposing periodic boundary conditions. \n",
    "            if pos[s][m][0] >= L:\n",
    "                pos[s][m][0] = pos[s][m][0] - L\n",
    "            if pos[s][m][0] <= 0:\n",
    "                pos[s][m][0] = pos[s][m][0] + L\n",
    "            if pos[s][m][1] >= L:\n",
    "                pos[s][m][1] = pos[s][m][1] - L\n",
    "            if pos[s][m][1] <= 0:\n",
    "                pos[s][m][1] = pos[s][m][1] + L\n",
    "                \n",
    "        #Andersen Thermostat              \n",
    "\n",
    "        for b in range(N):\n",
    "            r = np.random.uniform(0,1)\n",
    "            if r <= nu*dt: #picking a particle with the specified probability\n",
    "                r1 = np.random.uniform(0,1)\n",
    "                r2 = np.random.uniform(0,1)*2*np.pi\n",
    "                vel[s][b][0] = np.sqrt(-2*T*np.log(r1))*np.cos(r2) #Assigning velocitied drawn from the maxwell-Boltzmann\n",
    "                vel[s][b][1] = np.sqrt(-2*T*np.log(r1))*np.sin(r2) #Distribution                 \n",
    "                \n",
    "        KE[s] = get_ke(vel[s])                               # Compute the kinetic and potential energies at \n",
    "        PE[s] = get_pe(pos[s], 2.3,L=L)                      # the current step\n",
    "        \n",
    "    return pos, vel, KE, PE\n",
    "        "
   ]
  },
  {
   "cell_type": "code",
   "execution_count": 4,
   "id": "6be19a30",
   "metadata": {},
   "outputs": [],
   "source": [
    "Nx = 11                # Number of particles per row initially along x\n",
    "Ny = 11                # Number of particles per row iniailly along y\n",
    "N = Nx*Ny                # Total number of particles\n",
    "rho = 0.5                # Density of the system\n",
    "L = np.sqrt(N/rho)       # Length of the system\n",
    "\n",
    "ipos = init_pos(Lx=L, Ly=L, Nx=Nx, Ny=Ny)  # Initial positions (square grid)\n",
    "ivel = init_vel(N)                         # Initial velocities \n",
    "\n",
    "\n",
    "tf = 100\n",
    "dt = 0.01\n",
    "time = np.arange(0,int(tf/dt))*dt"
   ]
  },
  {
   "cell_type": "code",
   "execution_count": 9,
   "id": "974ead40",
   "metadata": {
    "scrolled": true
   },
   "outputs": [
    {
     "name": "stdout",
     "output_type": "stream",
     "text": [
      "CPU times: total: 33.4 s\n",
      "Wall time: 1min 10s\n"
     ]
    }
   ],
   "source": [
    "%%time \n",
    "pos1,vel1, KE1, PE1 = simulate(ipos, ivel, 0.1, 0.5, 2.3,100, dt=dt)"
   ]
  },
  {
   "cell_type": "code",
   "execution_count": 7,
   "id": "7e9f5107",
   "metadata": {},
   "outputs": [
    {
     "name": "stdout",
     "output_type": "stream",
     "text": [
      "CPU times: total: 13.7 s\n",
      "Wall time: 24.8 s\n"
     ]
    }
   ],
   "source": [
    "%%time \n",
    "posi, veli, KEi, PEi=newsimulate(ipos, ivel, 0.1, 0.5,2.3,2.7, tf=99, dt=0.01)"
   ]
  },
  {
   "cell_type": "code",
   "execution_count": 31,
   "id": "3c7da6bf",
   "metadata": {},
   "outputs": [],
   "source": [
    "lattice = np.array([9,10,11, 12,14,15,16])\n",
    "sim = np.array([16.6, 21.5,33.4,43.5,90,119,137])\n",
    "newsim = np.array([5.7,11, 12.4, 13.2,22.7,42.1,62])"
   ]
  },
  {
   "cell_type": "code",
   "execution_count": 32,
   "id": "69488d5e",
   "metadata": {},
   "outputs": [
    {
     "name": "stdout",
     "output_type": "stream",
     "text": [
      "1.9420642982161398 -5.803361121410923\n",
      "1.8587221028375112 -6.405433012503051\n"
     ]
    }
   ],
   "source": [
    "m1, c1 = np.polyfit(np.log(lattice**2), np.log(sim),1)\n",
    "m2 ,c2 = np.polyfit(np.log(lattice**2), np.log(newsim),1)\n",
    "print(m1,c1)#slope and intercept for the linear fit for the simulate funcyion\n",
    "print(m2,c2)#slope and intercept for the linear fit for the newsimulate funcyion"
   ]
  },
  {
   "cell_type": "code",
   "execution_count": 38,
   "id": "816b3aac",
   "metadata": {},
   "outputs": [
    {
     "data": {
      "text/plain": [
       "<matplotlib.legend.Legend at 0x216283ba3d0>"
      ]
     },
     "execution_count": 38,
     "metadata": {},
     "output_type": "execute_result"
    },
    {
     "data": {
      "image/png": "[encoded data removed]",
      "text/plain": [
       "<Figure size 640x480 with 1 Axes>"
      ]
     },
     "metadata": {},
     "output_type": "display_data"
    }
   ],
   "source": [
    "plt.scatter(np.log(lattice**2), np.log(sim), marker = '^',color = 'steelblue', label='CPU time for simulation')\n",
    "plt.scatter(np.log(lattice**2), np.log(newsim),marker= '*',color = 'maroon', label='CPU time for modified simulation')\n",
    "plt.plot(np.log(lattice**2), m1*np.log(lattice**2) + c1,linestyle = '--',color = 'blue', label = r'$y = 1.942 x - 5.803 $')\n",
    "plt.plot(np.log(lattice**2), m2*np.log(lattice**2) + c2,linestyle = '--',color = 'red', label = r'$y = 1.858 x - 6.405$')\n",
    "plt.xlabel('logarithm of the number of particles')\n",
    "plt.ylabel('logarithm of CPU time')\n",
    "plt.legend()"
   ]
  },
  {
   "cell_type": "code",
   "execution_count": 32,
   "id": "2a7642e0",
   "metadata": {},
   "outputs": [
    {
     "name": "stdout",
     "output_type": "stream",
     "text": [
      "CPU times: total: 27.2 s\n",
      "Wall time: 42.3 s\n"
     ]
    }
   ],
   "source": [
    "%%time\n",
    " \n",
    "pos1,vel1, KE1, PE1 = simulate(ipos, ivel, 0.1, 0.5, 2.3,100, dt=dt)\n",
    "pos2,vel2, KE2, PE2 = simulate(ipos, ivel, 0.1, 2, 2.3,100, dt=dt)\n",
    "# pos3,vel3, KE3, PE3 = simulate(ipos, ivel, 0.1, 2.5, 2.3,100, dt=dt)\n",
    "pos4,vel4, KE4, PE4 = simulate(ipos, ivel, 0.5, 0.1, 2.3,100, dt=dt)\n",
    "# pos5,vel5, KE5, PE5 = simulate(ipos, ivel, 0.7, 0.05, 2.3,100, dt=dt)"
   ]
  },
  {
   "cell_type": "code",
   "execution_count": 37,
   "id": "71a51130",
   "metadata": {},
   "outputs": [],
   "source": [
    "#pos2,vel2, KE2, PE2 = simulate(ipos, ivel, 0.1, 2, 2.3,100, dt=dt)"
   ]
  },
  {
   "cell_type": "code",
   "execution_count": 36,
   "id": "df8e61c2",
   "metadata": {},
   "outputs": [],
   "source": [
    "pos4,vel4, KE4, PE4 = simulate(ipos, ivel, 0.5, 0.1, 2.3,100, dt=dt)\n",
    "pos4,vel4, KE4, PE4 = simulate(ipos, ivel, 0.5, 0.1, 2.3,100, dt=dt)"
   ]
  },
  {
   "cell_type": "code",
   "execution_count": 33,
   "id": "825a4296",
   "metadata": {},
   "outputs": [],
   "source": [
    "@njit\n",
    "def compute_RDF(dr,s,posa):\n",
    "    # accumulate data for n(r)\n",
    "    L1=((L)**2+(L)**2)**0.5 #largest possible distance between two particles\n",
    "    g= L1/dr #number of bins\n",
    "    r=np.array([0.]) #array to store the separations\n",
    "#     r_count=np.zeros(shape=(N-1,int(g)))\n",
    "    for i in range(N - 1):\n",
    "         for j in range(i + 1, N):\n",
    "                rn=pbc_distance(posa[s][j]-posa[s][i])\n",
    "                r1=np.sqrt(rn[0]**2+rn[1]**2) #Getting the separation between a pair of particles\n",
    "                r=np.append(r,r1) #storing it in an array\n",
    "    r = r[0:]\n",
    "    hist, binedges = np.histogram(r, int(g))#dividing the values of separation in bins of thickness dr\n",
    "    return hist, binedges"
   ]
  },
  {
   "cell_type": "code",
   "execution_count": 81,
   "id": "1fe11936",
   "metadata": {},
   "outputs": [
    {
     "data": {
      "text/plain": [
       "Text(0.5, 0, 'r')"
      ]
     },
     "execution_count": 81,
     "metadata": {},
     "output_type": "execute_result"
    },
    {
     "data": {
      "image/png": "[encoded data removed]",
      "text/plain": [
       "<Figure size 600x400 with 1 Axes>"
      ]
     },
     "metadata": {
      "needs_background": "light"
     },
     "output_type": "display_data"
    }
   ],
   "source": [
    "plt.scatter(mid6, gaverage6,s=1,color = 'yellow', label='Averaged after 10 timesteps')\n",
    "plt.scatter(mid3, gaverage3,s=1,color = 'gold', label='Averaged after 100 timesteps')\n",
    "plt.scatter(mid2, gaverage2,s=1,color = 'orangered', label='Averaged after 1000 timesteps')\n",
    "plt.scatter(mid1, gaverage1,s=1,color = 'firebrick', label='Averaged after 3000 timestep')\n",
    "plt.scatter(mid5, gaverage5,s=1,color = 'darkred', label='Averaged after 7000 timestep')\n",
    "#plt.scatter(mid4, gaverage4,s=1,color = 'yellow', label='T = 0.5')\n",
    "plt.axhline(1, linestyle = '--', color = 'black')\n",
    "plt.xlim(xmin = 0,xmax = L/2)\n",
    "plt.ylim(ymin = -1,ymax = 4)\n",
    "plt.legend()\n",
    "plt.ylabel('g(r)')\n",
    "plt.xlabel('r')"
   ]
  },
  {
   "cell_type": "code",
   "execution_count": 38,
   "id": "919291e0",
   "metadata": {},
   "outputs": [],
   "source": [
    "# %%time\n",
    "\n",
    "L1=((L)**2+(L)**2)**0.5\n",
    "g= L1/0.025\n",
    "\n",
    "compMid1= np.zeros(2999)\n",
    "compNormG1= np.zeros(2999)\n",
    "compnormGf1=np.zeros((2999,int(g)))\n",
    "for ts in range(7000, 9999):\n",
    "    abc,efg=compute_RDF(0.025,ts,pos1)\n",
    "\n",
    "\n",
    "    mid1 = np.zeros(len(efg)-1)\n",
    "    normG1 = np.zeros(len(efg)-1)\n",
    "    for i in range(len(efg)-1):\n",
    "        mid1[i] = (efg[i+1]+efg[i])/2 #radius corresponding to the bin\n",
    "        normG1[i] = abc[i]/(2*np.pi*mid1[i]) #normalisation factor\n",
    "        compnormGf1[ts-7000][i]=normG1[i]\n",
    "\n",
    "gaverage1 = (np.sum(compnormGf1, axis = 0))/(len(efg)-1)#Array of RDF after normalisation averaging over 2999 timesteps\n",
    "\n",
    "\n",
    "compMid2= np.zeros(2999)\n",
    "compNormG2= np.zeros(2999)\n",
    "compnormGf2=np.zeros((2999,int(g)))\n",
    "for ts in range(7000, 9999):\n",
    "    abc,efg=compute_RDF(0.025,ts,pos2)\n",
    "# # plt.show()\n",
    "\n",
    "    mid2 = np.zeros(len(efg)-1)\n",
    "    normG2 = np.zeros(len(efg)-1)\n",
    "    for i in range(len(efg)-1):\n",
    "        mid2[i] = (efg[i+1]+efg[i])/2\n",
    "        normG2[i] = abc[i]/(2*np.pi*mid2[i])\n",
    "        compnormGf2[ts-7000][i]=normG2[i]\n",
    "\n",
    "gaverage2 = (np.sum(compnormGf2, axis = 0))/(len(efg)-1)\n",
    "\n",
    "\n",
    "\n",
    "compMid4= np.zeros(2999)\n",
    "compNormG4= np.zeros(2999)\n",
    "compnormGf4=np.zeros((2999,int(g)))\n",
    "\n",
    "for ts in range(7000, 9999):\n",
    "    abc,efg=compute_RDF(0.025,ts,pos4)\n",
    "\n",
    "    mid4 = np.zeros(len(efg)-1)\n",
    "    normG4 = np.zeros(len(efg)-1)\n",
    "    for i in range(len(efg)-1):\n",
    "        mid4[i] = (efg[i+1]+efg[i])/2\n",
    "        normG4[i] = abc[i]/(2*np.pi*mid4[i])\n",
    "        compnormGf4[ts-7000][i]=normG4[i]\n",
    "\n",
    "gaverage4 = (np.sum(compnormGf4, axis = 0))/(len(efg)-1)"
   ]
  },
  {
   "cell_type": "code",
   "execution_count": 46,
   "id": "99f26ad4",
   "metadata": {},
   "outputs": [
    {
     "data": {
      "text/plain": [
       "Text(0.5, 0, 'r')"
      ]
     },
     "execution_count": 46,
     "metadata": {},
     "output_type": "execute_result"
    },
    {
     "data": {
      "image/png": "[encoded data removed]",
      "text/plain": [
       "<Figure size 600x400 with 1 Axes>"
      ]
     },
     "metadata": {
      "needs_background": "light"
     },
     "output_type": "display_data"
    }
   ],
   "source": [
    "#plt.scatter(mid5, gaverage5,s=1,color = 'midnightblue', label ='T = 0.05')\n",
    "plt.scatter(mid4, gaverage4,s=1,color = 'midnightblue', label='T = 0.1')\n",
    "plt.scatter(mid1, gaverage1,s=1,color = 'crimson', label='T = 0.5')\n",
    "plt.scatter(mid2, gaverage2,s=1,color = 'darkgoldenrod', label='T = 2')\n",
    "#plt.scatter(mid3, gaverage3,s=1,color = 'darkgoldenrod', label='T = 2.5')\n",
    "plt.axhline(1, linestyle = '--', color = 'black')\n",
    "plt.xlim(xmin = 0,xmax = L/2)\n",
    "plt.ylim(ymin = -1,ymax = 7.5)\n",
    "plt.legend()\n",
    "plt.ylabel('g(r)')\n",
    "plt.xlabel('r')"
   ]
  },
  {
   "cell_type": "code",
   "execution_count": 39,
   "id": "e0f7f8a1",
   "metadata": {},
   "outputs": [],
   "source": [
    "print(np.sum(gaverage1*2*np.pi*mid1*0.025)*0.5)"
   ]
  },
  {
   "cell_type": "code",
   "execution_count": 31,
   "id": "d8a8245b",
   "metadata": {},
   "outputs": [],
   "source": [
    "def retu(dr,s,pos,vel,KE,PE): #getting the potential energy from the RDF\n",
    "    \n",
    "    out3,out4=compute_RDF(dr,s,pos)\n",
    "    \n",
    "#     ar=np.zeros(len(out1))\n",
    "#     hn1=np.zeros(160)\n",
    "    V=L**2\n",
    "    T=np.sum(KE[s])/N\n",
    "    l1=np.zeros(160)\n",
    "    U1=np.zeros(160)\n",
    "    gave1=np.zeros(160)\n",
    "    \n",
    "    for i in range(40,200):\n",
    "        \n",
    "#         l1[i-40]=(out4[i]+out4[i+1])/2\n",
    "#         gave1[i-40]=out3[i]/(np.pi*l1[i-40]*dr)\n",
    "        r=dr*i\n",
    "        u=4*(r**-12-r**-6) #PE as a funtion of separation\n",
    "        U1[i-40]=u\n",
    "    hn=U1*gaverage[40:200] #pre-integral of PE per particle\n",
    "    uf=np.sum(hn)*64\n",
    "    \n",
    "    return uf# PE fraom RDF\n"
   ]
  },
  {
   "cell_type": "code",
   "execution_count": 90,
   "id": "dfb6b3df",
   "metadata": {},
   "outputs": [],
   "source": [
    "def retp(dr,r_c,s,pos,vel,KE,PE):#getting the pressure from the RDF\n",
    "\n",
    "    out1,out2=compute_RDF(dr,s,pos)\n",
    "\n",
    "#     ar=np.zeros(len(out1))\n",
    "    ar=np.zeros(shape=(len(out1)))\n",
    "    hn=np.zeros(shape=(len(out1)))\n",
    "    V=L**2\n",
    "    T=np.sum(KE[s])/N#instantaneous temperature\n",
    "    l=np.zeros(len(out1))\n",
    "    gave=np.zeros(len(out1))\n",
    "\n",
    "    for i in range(1,len(out1)):\n",
    "\n",
    "        l[i]=(out2[i]+out2[i+1])/2\n",
    "        gave[i]=out1[i]/(2*np.pi*l[i]*dr)\n",
    "        r=dr*i\n",
    "        a=np.sqrt(lj_acc1(np.array([r/(2**0.5),r/(2**0.5)]),r_c)[0]**2+lj_acc1(np.array([r/(2**0.5),r/(2**0.5)]),r_c)[1]**2)#Magnitude of modified acceleration\n",
    "        ar[i]=a*out1[i]\n",
    "        hn[i]=(gave[i]*r*ar[i]*dr)\n",
    "    ar=ar[50:200]#beyond this point the results of the RDF calculation seem to become unreliable. Suspected to be something to do with PBCs\n",
    "    hn=hn[50:200]#pre-integral of pressure\n",
    "\n",
    "    p=N*T*(1-np.sum(hn)/(4*T))/(L**2) #pressure\n",
    "\n",
    "    return T, p\n",
    "#PV/nkt = 1 - rho/4kT(integral(g(r)(rljacc1)dr)"
   ]
  },
  {
   "cell_type": "code",
   "execution_count": 100,
   "id": "92beb2f4",
   "metadata": {},
   "outputs": [],
   "source": [
    "press = np.array([0.])\n",
    "for Ts in np.array([0.5,0.75,1,1.25,1.5,2,2.5]):\n",
    "    p, v, ke, pe = simulate(ipos, ivel, 0.1, Ts, 100, dt=dt)\n",
    "    pres = retp(0.025,2.3,9998,p,v,ke,pe)[0]\n",
    "    press = np.append(press, pres)"
   ]
  },
  {
   "cell_type": "code",
   "execution_count": 109,
   "id": "a89d8429",
   "metadata": {},
   "outputs": [
    {
     "name": "stdout",
     "output_type": "stream",
     "text": [
      "0.5502085116436829 -0.04955796798178195\n"
     ]
    },
    {
     "data": {
      "image/png": "[encoded data removed]",
      "text/plain": [
       "<Figure size 600x400 with 1 Axes>"
      ]
     },
     "metadata": {
      "needs_background": "light"
     },
     "output_type": "display_data"
    }
   ],
   "source": [
    "plt.scatter(np.array([0.5,0.75,1,1.25,1.5,2,2.5]), press/2, color = 'navy')\n",
    "m, c = np.polyfit(np.array([0.5,0.75,1,1.25,1.5,2,2.5]), press/2,1)\n",
    "plt.plot(np.array([0.5,0.75,1,1.25,1.5,2,2.5]), m*np.array([0.5,0.75,1,1.25,1.5,2,2.5]) + c, linestyle = '--',color = 'red')\n",
    "plt.xlabel('Temperature')\n",
    "plt.ylabel('Pressure')\n",
    "print(m,c)"
   ]
  },
  {
   "cell_type": "code",
   "execution_count": 32,
   "id": "5f0faca4",
   "metadata": {},
   "outputs": [
    {
     "data": {
      "text/plain": [
       "-120.25181158353976"
      ]
     },
     "execution_count": 32,
     "metadata": {},
     "output_type": "execute_result"
    }
   ],
   "source": [
    "retu(0.025,9998,pos,vel,KE,PE)# Value of PE from RDF at a particular timstep "
   ]
  },
  {
   "cell_type": "code",
   "execution_count": 33,
   "id": "740e2a43",
   "metadata": {},
   "outputs": [
    {
     "name": "stdout",
     "output_type": "stream",
     "text": [
      "-120.251811583536\n"
     ]
    }
   ],
   "source": [
    "#cell 18\n",
    "usher=0\n",
    "for i in range(8000,9998):\n",
    "    ur=retu(0.025,i,pos,vel,KE,PE)\n",
    "    usher+=ur/1998\n",
    "    \n",
    "print(usher)# Value of PE from RDF averaged over the last 1998 timsteps"
   ]
  },
  {
   "cell_type": "code",
   "execution_count": 36,
   "id": "ac0b0172",
   "metadata": {},
   "outputs": [
    {
     "data": {
      "text/plain": [
       "-107.34073810803092"
      ]
     },
     "execution_count": 36,
     "metadata": {},
     "output_type": "execute_result"
    }
   ],
   "source": [
    "np.mean(PE[8000:9998]) #VAlue of PE from the simulate function"
   ]
  },
  {
   "cell_type": "code",
   "execution_count": 70,
   "id": "ebd7c488",
   "metadata": {},
   "outputs": [
    {
     "name": "stdout",
     "output_type": "stream",
     "text": [
      "69.89486780698488\n"
     ]
    }
   ],
   "source": [
    "print(np.sum(gaverage3))"
   ]
  }
 ],
 "metadata": {
  "kernelspec": {
   "display_name": "Python 3 (ipykernel)",
   "language": "python",
   "name": "python3"
  },
  "language_info": {
   "codemirror_mode": {
    "name": "ipython",
    "version": 3
   },
   "file_extension": ".py",
   "mimetype": "text/x-python",
   "name": "python",
   "nbconvert_exporter": "python",
   "pygments_lexer": "ipython3",
   "version": "3.11.4"
  }
 },
 "nbformat": 4,
 "nbformat_minor": 5
}
